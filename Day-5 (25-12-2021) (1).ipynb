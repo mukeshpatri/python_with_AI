{
 "cells": [
  {
   "cell_type": "markdown",
   "id": "c6c8c6d3",
   "metadata": {},
   "source": [
    "# Mark Down \n",
    "## Mark Down\n",
    "### MArk Down\n",
    "#### MArk Down\n",
    "\n",
    "# Python\n",
    "  - python1\n",
    "    - python1\n",
    "    - python2\n",
    "    \n",
    "# Font Styles\n",
    "   - **Python**\n",
    "   - *Python*\n",
    "   - ***Python***\n",
    "   \n"
   ]
  },
  {
   "cell_type": "markdown",
   "id": "98a3e0e4",
   "metadata": {},
   "source": [
    "# print function():\n",
    "     \n",
    "  - in python print function used to print specific text or message "
   ]
  },
  {
   "cell_type": "code",
   "execution_count": 2,
   "id": "ec7c1e8b",
   "metadata": {},
   "outputs": [
    {
     "name": "stdout",
     "output_type": "stream",
     "text": [
      "Hello world\n"
     ]
    }
   ],
   "source": [
    "print (\"Hello world\")"
   ]
  },
  {
   "cell_type": "code",
   "execution_count": 3,
   "id": "5a1ac7dd",
   "metadata": {},
   "outputs": [
    {
     "name": "stdout",
     "output_type": "stream",
     "text": [
      "Hello ,world\n"
     ]
    }
   ],
   "source": [
    "print (\"Hello ,world\")"
   ]
  },
  {
   "cell_type": "code",
   "execution_count": 7,
   "id": "ad6ecde5",
   "metadata": {},
   "outputs": [
    {
     "name": "stdout",
     "output_type": "stream",
     "text": [
      "one two Three\n"
     ]
    }
   ],
   "source": [
    "print (\"one\", \"two\", \"Three\")"
   ]
  },
  {
   "cell_type": "markdown",
   "id": "11a4cba8",
   "metadata": {},
   "source": [
    "# Variables\n",
    "  - To store some data values"
   ]
  },
  {
   "cell_type": "code",
   "execution_count": 8,
   "id": "b6c9c6b2",
   "metadata": {},
   "outputs": [
    {
     "name": "stdout",
     "output_type": "stream",
     "text": [
      "10\n"
     ]
    }
   ],
   "source": [
    "a = 10 # single value assaigned to single variable\n",
    "print (a)"
   ]
  },
  {
   "cell_type": "code",
   "execution_count": 9,
   "id": "d4a6920b",
   "metadata": {},
   "outputs": [
    {
     "name": "stdout",
     "output_type": "stream",
     "text": [
      "10 10 10\n"
     ]
    }
   ],
   "source": [
    "a = b = c= 10 # single value assaigned to multiple variables\n",
    "print (a,b,c)"
   ]
  },
  {
   "cell_type": "code",
   "execution_count": 10,
   "id": "9a093a99",
   "metadata": {},
   "outputs": [
    {
     "name": "stdout",
     "output_type": "stream",
     "text": [
      "10 20 30\n"
     ]
    }
   ],
   "source": [
    "a,b,c = 10,20,30 # Multiple values assaigned to multiple variables\n",
    "print (a,b,c)"
   ]
  },
  {
   "cell_type": "markdown",
   "id": "1b19abf5",
   "metadata": {},
   "source": [
    "# Input Function\n",
    "   - accept input from user"
   ]
  },
  {
   "cell_type": "code",
   "execution_count": 12,
   "id": "89a24307",
   "metadata": {},
   "outputs": [
    {
     "name": "stdout",
     "output_type": "stream",
     "text": [
      "Enter your name:Lavanya\n",
      "Your name is: Lavanya\n",
      "<class 'str'>\n"
     ]
    }
   ],
   "source": [
    "# Input as a text\n",
    "x = input (\"Enter your name:\")\n",
    "print (\"Your name is:\",x)\n",
    "print (type(x))"
   ]
  },
  {
   "cell_type": "code",
   "execution_count": 14,
   "id": "787de32a",
   "metadata": {},
   "outputs": [
    {
     "name": "stdout",
     "output_type": "stream",
     "text": [
      "Enter a number:25\n",
      "25\n",
      "<class 'int'>\n"
     ]
    }
   ],
   "source": [
    "# Input as number\n",
    "n = int(input(\"Enter a number:\"))\n",
    "print (n)\n",
    "print (type(n))"
   ]
  },
  {
   "cell_type": "markdown",
   "id": "1c881faf",
   "metadata": {},
   "source": [
    "# Date Types:"
   ]
  },
  {
   "cell_type": "code",
   "execution_count": 15,
   "id": "f7a6e75d",
   "metadata": {},
   "outputs": [
    {
     "name": "stdout",
     "output_type": "stream",
     "text": [
      "10\n",
      "<class 'int'>\n"
     ]
    }
   ],
   "source": [
    "# Inter \n",
    "x = 10\n",
    "print (x)\n",
    "print (type(x))"
   ]
  },
  {
   "cell_type": "code",
   "execution_count": 16,
   "id": "df4610d3",
   "metadata": {},
   "outputs": [
    {
     "name": "stdout",
     "output_type": "stream",
     "text": [
      "10.2\n",
      "<class 'float'>\n"
     ]
    }
   ],
   "source": [
    "# Float\n",
    "a = 10.2\n",
    "print (a)\n",
    "print (type(a))"
   ]
  },
  {
   "cell_type": "code",
   "execution_count": 17,
   "id": "60b47a42",
   "metadata": {},
   "outputs": [
    {
     "name": "stdout",
     "output_type": "stream",
     "text": [
      "python\n",
      "<class 'str'>\n"
     ]
    }
   ],
   "source": [
    "# String\n",
    "a = \"python\"\n",
    "print (a)\n",
    "print (type(a))"
   ]
  },
  {
   "cell_type": "markdown",
   "id": "f4d77d04",
   "metadata": {},
   "source": [
    "# Data Converstions:"
   ]
  },
  {
   "cell_type": "code",
   "execution_count": 20,
   "id": "e2006162",
   "metadata": {},
   "outputs": [
    {
     "name": "stdout",
     "output_type": "stream",
     "text": [
      "5 <class 'int'>\n",
      "5.0 <class 'float'>\n",
      "5 <class 'str'>\n"
     ]
    }
   ],
   "source": [
    "# Integer \n",
    "n = 5\n",
    "print (n,type(n))\n",
    "f = float (n)\n",
    "print (f,type(f))\n",
    "s = str(n)\n",
    "print (s,type(s))"
   ]
  },
  {
   "cell_type": "code",
   "execution_count": 24,
   "id": "dd4bc001",
   "metadata": {},
   "outputs": [
    {
     "name": "stdout",
     "output_type": "stream",
     "text": [
      "12345 <class 'str'>\n",
      "12345 <class 'int'>\n",
      "12345.0 <class 'float'>\n"
     ]
    }
   ],
   "source": [
    "# String \n",
    "s = \"12345\"\n",
    "print (s,type(s))\n",
    "n = int(s)\n",
    "print (n,type(n))\n",
    "f = float(s)\n",
    "print (f,type(f))"
   ]
  },
  {
   "cell_type": "code",
   "execution_count": 30,
   "id": "30131778",
   "metadata": {},
   "outputs": [
    {
     "name": "stdout",
     "output_type": "stream",
     "text": [
      "5.5 <class 'float'>\n",
      "5 <class 'int'>\n",
      "5.5 <class 'str'>\n"
     ]
    }
   ],
   "source": [
    "# float\n",
    "f = 5.5\n",
    "print (f,type(f))\n",
    "n = int(f)\n",
    "print (n,type(n))\n",
    "s = str(f)\n",
    "print (s,type(s))"
   ]
  },
  {
   "cell_type": "markdown",
   "id": "2d5520de",
   "metadata": {},
   "source": [
    "# Exercise:"
   ]
  },
  {
   "cell_type": "markdown",
   "id": "50b9e0b2",
   "metadata": {},
   "source": [
    "## Display three string \"name\",\"is\",\"James\" as \"Name** IS **James\""
   ]
  },
  {
   "cell_type": "code",
   "execution_count": 2,
   "id": "e2048247",
   "metadata": {},
   "outputs": [
    {
     "name": "stdout",
     "output_type": "stream",
     "text": [
      "enter your name:James\n",
      "name is James\n"
     ]
    }
   ],
   "source": [
    "n = input(\"enter your name:\")\n",
    "print(\"name is\",n)"
   ]
  },
  {
   "cell_type": "markdown",
   "id": "61bc96fa",
   "metadata": {},
   "source": [
    "## Write a python program which accepts the radius of the circle from the user and compute the area"
   ]
  },
  {
   "cell_type": "code",
   "execution_count": 3,
   "id": "68b83880",
   "metadata": {},
   "outputs": [
    {
     "name": "stdout",
     "output_type": "stream",
     "text": [
      "enter radius:6\n",
      "113.03999999999999\n"
     ]
    }
   ],
   "source": [
    "pi= 3.14\n",
    "r = int(input(\"enter radius:\"))\n",
    "print(pi*r*r)"
   ]
  },
  {
   "cell_type": "markdown",
   "id": "1dfea383",
   "metadata": {},
   "source": [
    "## Accept two numbers from the user and return their sum,multiplication,division"
   ]
  },
  {
   "cell_type": "code",
   "execution_count": 4,
   "id": "770dca2d",
   "metadata": {},
   "outputs": [
    {
     "name": "stdout",
     "output_type": "stream",
     "text": [
      "5\n",
      "6\n",
      "11 -1 30 0.8333333333333334\n"
     ]
    }
   ],
   "source": [
    "a = int(input())\n",
    "b = int(input())\n",
    "c = a+b\n",
    "d = a-b\n",
    "e = a*b\n",
    "f = a/b\n",
    "print (c,d,e,f)"
   ]
  },
  {
   "cell_type": "markdown",
   "id": "68f3828a",
   "metadata": {},
   "source": [
    "## Using input() function, print() function and another function you may need; ask for the current year, then print the answer +50.\n",
    "\n",
    "\n",
    "\n",
    "\n",
    "\n"
   ]
  },
  {
   "cell_type": "code",
   "execution_count": 5,
   "id": "929c9987",
   "metadata": {},
   "outputs": [
    {
     "name": "stdout",
     "output_type": "stream",
     "text": [
      "enter a year :1972\n",
      "2022\n"
     ]
    }
   ],
   "source": [
    "x = int(input(\"enter a year :\"))\n",
    "x = x+50\n",
    "print(x)"
   ]
  },
  {
   "cell_type": "code",
   "execution_count": null,
   "id": "0cb52272",
   "metadata": {},
   "outputs": [],
   "source": []
  }
 ],
 "metadata": {
  "kernelspec": {
   "display_name": "Python 3",
   "language": "python",
   "name": "python3"
  }
 },
 "nbformat": 4,
 "nbformat_minor": 5
}
