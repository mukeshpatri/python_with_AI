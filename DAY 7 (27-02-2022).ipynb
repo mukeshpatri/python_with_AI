{
 "cells": [
  {
   "cell_type": "code",
   "execution_count": 2,
   "id": "ae4af801",
   "metadata": {},
   "outputs": [
    {
     "name": "stdout",
     "output_type": "stream",
     "text": [
      "Enter a number :123\n",
      "3 2 1 3 2 1 3 2 1 "
     ]
    }
   ],
   "source": [
    "# input:123\n",
    "# output:321\n",
    "a = int(input(\"Enter a number :\"))\n",
    "while a!=0:\n",
    "    print(a%10,end= \" \") \n",
    "    a = a//10  "
   ]
  },
  {
   "cell_type": "code",
   "execution_count": 3,
   "id": "a4e4b3bb",
   "metadata": {
    "scrolled": true
   },
   "outputs": [
    {
     "name": "stdout",
     "output_type": "stream",
     "text": [
      "enter a number:123\n",
      "threeTwoOnethreeTwoOnethreeTwoOne"
     ]
    }
   ],
   "source": [
    "#input:123\n",
    "#output:one two three\n",
    "a = int(input(\"enter a number:\"))\n",
    "while a!= 0:\n",
    "    b = a%10\n",
    "    if b==1:\n",
    "        print(\"One\",end= \"\")\n",
    "    elif b==2:\n",
    "        print(\"Two\",end=\"\")    \n",
    "    elif b==3:\n",
    "        print(\"three\",end=\"\")  \n",
    "    a=a//10\n",
    "    "
   ]
  },
  {
   "cell_type": "code",
   "execution_count": null,
   "id": "cc95da7a",
   "metadata": {},
   "outputs": [],
   "source": [
    "pip install num2words\n",
    "\n"
   ]
  },
  {
   "cell_type": "code",
   "execution_count": null,
   "id": "abef6390",
   "metadata": {},
   "outputs": [],
   "source": [
    "from num2words import num2words\n",
    "print(num2words(123))\n"
   ]
  },
  {
   "cell_type": "code",
   "execution_count": null,
   "id": "aaae61b5",
   "metadata": {},
   "outputs": [],
   "source": [
    "#input:10\n",
    "#output: 10 9 8 7 6 5 4 3 2 1\n",
    "f = int(input(\"Enter a value:\"))\n",
    "g = 1\n",
    "while f >= g:\n",
    "    print(f,end=\" \")\n",
    "    f=f-1\n"
   ]
  },
  {
   "cell_type": "code",
   "execution_count": 1,
   "id": "a44af1b6",
   "metadata": {},
   "outputs": [
    {
     "name": "stdout",
     "output_type": "stream",
     "text": [
      "Enter a value:10\n",
      "10 9 8 7 6 5 4 3 2 1 10 9 8 7 6 5 4 3 2 1 10 9 8 7 6 5 4 3 2 1 "
     ]
    }
   ],
   "source": [
    "f = int(input(\"Enter a value:\"))\n",
    "g = 1\n",
    "while f >= g:\n",
    "    print(f,end=\" \")\n",
    "    f=f-1\n"
   ]
  },
  {
   "cell_type": "code",
   "execution_count": 1,
   "id": "baa61fe7",
   "metadata": {},
   "outputs": [
    {
     "name": "stdout",
     "output_type": "stream",
     "text": [
      "Enter a number:136542\n",
      "6\n",
      "6\n",
      "6\n"
     ]
    }
   ],
   "source": [
    "#count number of digits\n",
    "f=int(input(\"Enter a number:\"))\n",
    "c = 0\n",
    "while f!=0:\n",
    "    f =f//10\n",
    "    c = c+1\n",
    "print(c)\n"
   ]
  },
  {
   "cell_type": "markdown",
   "id": "55992eae",
   "metadata": {},
   "source": [
    "# Break Statement\n",
    "  - we can stop the loop even while the true condition is true\n",
    "  "
   ]
  },
  {
   "cell_type": "code",
   "execution_count": 2,
   "id": "69fc88bb",
   "metadata": {},
   "outputs": [
    {
     "name": "stdout",
     "output_type": "stream",
     "text": [
      "1 2 1 2 1 2 "
     ]
    }
   ],
   "source": [
    "i = 1\n",
    "while i<=5:\n",
    "    print(i,end=\" \")\n",
    "    if i ==2:\n",
    "        break\n",
    "    i +=1  \n",
    "    "
   ]
  },
  {
   "cell_type": "code",
   "execution_count": 13,
   "id": "2d7f659b",
   "metadata": {},
   "outputs": [
    {
     "name": "stdout",
     "output_type": "stream",
     "text": [
      "1 2 3 5 6 1 2 3 5 6 1 2 3 5 6 "
     ]
    }
   ],
   "source": [
    "i = 0\n",
    "while i<6:\n",
    "    i +=1\n",
    "    if i ==4:\n",
    "        continue\n",
    "    \n",
    "    print(i,end=\" \")\n",
    "       \n",
    "   \n",
    "       "
   ]
  },
  {
   "cell_type": "markdown",
   "id": "111479da",
   "metadata": {},
   "source": [
    "# For Loop Statement:\n",
    "syntax:\n"
   ]
  },
  {
   "cell_type": "code",
   "execution_count": 14,
   "id": "533ddc03",
   "metadata": {},
   "outputs": [
    {
     "ename": "SyntaxError",
     "evalue": "invalid syntax (<ipython-input-14-948640ba4e69>, line 1)",
     "output_type": "error",
     "traceback": [
      "\u001b[1;36m  File \u001b[1;32m\"<ipython-input-14-948640ba4e69>\"\u001b[1;36m, line \u001b[1;32m1\u001b[0m\n\u001b[1;33m    for <local variable> in <object name>:\u001b[0m\n\u001b[1;37m        ^\u001b[0m\n\u001b[1;31mSyntaxError\u001b[0m\u001b[1;31m:\u001b[0m invalid syntax\n"
     ]
    },
    {
     "ename": "SyntaxError",
     "evalue": "invalid syntax (<ipython-input-14-948640ba4e69>, line 1)",
     "output_type": "error",
     "traceback": [
      "\u001b[1;36m  File \u001b[1;32m\"<ipython-input-14-948640ba4e69>\"\u001b[1;36m, line \u001b[1;32m1\u001b[0m\n\u001b[1;33m    for <local variable> in <object name>:\u001b[0m\n\u001b[1;37m        ^\u001b[0m\n\u001b[1;31mSyntaxError\u001b[0m\u001b[1;31m:\u001b[0m invalid syntax\n"
     ]
    },
    {
     "ename": "SyntaxError",
     "evalue": "invalid syntax (<ipython-input-14-948640ba4e69>, line 1)",
     "output_type": "error",
     "traceback": [
      "\u001b[1;36m  File \u001b[1;32m\"<ipython-input-14-948640ba4e69>\"\u001b[1;36m, line \u001b[1;32m1\u001b[0m\n\u001b[1;33m    for <local variable> in <object name>:\u001b[0m\n\u001b[1;37m        ^\u001b[0m\n\u001b[1;31mSyntaxError\u001b[0m\u001b[1;31m:\u001b[0m invalid syntax\n"
     ]
    }
   ],
   "source": [
    "for <local variable> in <object name>:\n",
    "    statement\n",
    "    increment/decrement"
   ]
  },
  {
   "cell_type": "code",
   "execution_count": 15,
   "id": "83c86999",
   "metadata": {},
   "outputs": [
    {
     "name": "stdout",
     "output_type": "stream",
     "text": [
      "0 1 2 3 4 0 1 2 3 4 0 1 2 3 4 "
     ]
    }
   ],
   "source": [
    "for i in range(5):\n",
    "    print(i,end=\" \")"
   ]
  },
  {
   "cell_type": "code",
   "execution_count": 16,
   "id": "87be4aa0",
   "metadata": {},
   "outputs": [
    {
     "name": "stdout",
     "output_type": "stream",
     "text": [
      "1 2 3 4 1 2 3 4 1 2 3 4 "
     ]
    }
   ],
   "source": [
    "for i in range(1,5):\n",
    "    print(i,end=\" \")"
   ]
  },
  {
   "cell_type": "code",
   "execution_count": 18,
   "id": "0f3ab081",
   "metadata": {},
   "outputs": [
    {
     "name": "stdout",
     "output_type": "stream",
     "text": [
      "1 3 5 7 9 1 3 5 7 9 1 3 5 7 9 "
     ]
    }
   ],
   "source": [
    "# print odd numbers\n",
    "for i in range(1,10,2):\n",
    "    print(i,end=\" \")"
   ]
  },
  {
   "cell_type": "code",
   "execution_count": 20,
   "id": "2b679c67",
   "metadata": {},
   "outputs": [
    {
     "name": "stdout",
     "output_type": "stream",
     "text": [
      "1 2 3 4 5 6 7 8 9 10 1 2 3 4 5 6 7 8 9 10 1 2 3 4 5 6 7 8 9 10 "
     ]
    }
   ],
   "source": [
    "# print 1 2 3 ........ 10\n",
    "for i in range(1,11):\n",
    "    print(i,end=\" \")\n"
   ]
  },
  {
   "cell_type": "code",
   "execution_count": 26,
   "id": "6f64909c",
   "metadata": {},
   "outputs": [
    {
     "name": "stdout",
     "output_type": "stream",
     "text": [
      "11 10 9 8 7 6 5 4 3 2 1 11 10 9 8 7 6 5 4 3 2 1 11 10 9 8 7 6 5 4 3 2 1 "
     ]
    }
   ],
   "source": [
    "# print 10 9 8 7 ..... 1\n",
    "for i in range(11,0,-1):\n",
    "    print(i,end=\" \")\n",
    "   "
   ]
  },
  {
   "cell_type": "code",
   "execution_count": 34,
   "id": "c83fdef2",
   "metadata": {},
   "outputs": [
    {
     "name": "stdout",
     "output_type": "stream",
     "text": [
      "0 15 30 45 60 75 90 0 15 30 45 60 75 90 0 15 30 45 60 75 90 "
     ]
    }
   ],
   "source": [
    "# from 0 to 100 print multiples of both 3 and 5\n",
    "for i in range(0,100):\n",
    "    if i%3==0 and i%5==0:\n",
    "        print(i,end=\" \")\n",
    "    "
   ]
  },
  {
   "cell_type": "code",
   "execution_count": 38,
   "id": "9c252d4f",
   "metadata": {},
   "outputs": [
    {
     "name": "stdout",
     "output_type": "stream",
     "text": [
      "1 2 3 4 5 6 7 8 9 10 11 12 13 14 15 16 17 18 19 20 21 22 23 24 25 26 27 28 29 30 31 32 33 34 35 36 37 38 39 40 41 42 43 44 45 46 47 48 49 50 51 52 53 54 55 56 57 58 59 60 61 62 63 64 65 66 67 68 69 70 71 72 73 74 75 76 77 78 79 80 81 82 83 84 85 86 87 88 89 90 91 92 93 94 95 96 97 98 99 100 1 2 3 4 5 6 7 8 9 10 11 12 13 14 15 16 17 18 19 20 21 22 23 24 25 26 27 28 29 30 31 32 33 34 35 36 37 38 39 40 41 42 43 44 45 46 47 48 49 50 51 52 53 54 55 56 57 58 59 60 61 62 63 64 65 66 67 68 69 70 71 72 73 74 75 76 77 78 79 80 81 82 83 84 85 86 87 88 89 90 91 92 93 94 95 96 97 98 99 100 1 2 3 4 5 6 7 8 9 10 11 12 13 14 15 16 17 18 19 20 21 22 23 24 25 26 27 28 29 30 31 32 33 34 35 36 37 38 39 40 41 42 43 44 45 46 47 48 49 50 51 52 53 54 55 56 57 58 59 60 61 62 63 64 65 66 67 68 69 70 71 72 73 74 75 76 77 78 79 80 81 82 83 84 85 86 87 88 89 90 91 92 93 94 95 96 97 98 99 100 "
     ]
    }
   ],
   "source": [
    "# from 0 to 100 sum of all numbers\n",
    "for i in range (0,100,1):\n",
    "    sum=sum+i\n",
    "    \n",
    "   \n",
    "    \n",
    "    \n"
   ]
  },
  {
   "cell_type": "code",
   "execution_count": null,
   "id": "f41bc094",
   "metadata": {},
   "outputs": [],
   "source": []
  }
 ],
 "metadata": {
  "kernelspec": {
   "display_name": "Python 3",
   "language": "python",
   "name": "python3"
  },
  "language_info": {
   "codemirror_mode": {
    "name": "ipython",
    "version": 3
   },
   "file_extension": ".py",
   "mimetype": "text/x-python",
   "name": "python",
   "nbconvert_exporter": "python",
   "pygments_lexer": "ipython3",
   "version": "3.8.8"
  }
 },
 "nbformat": 4,
 "nbformat_minor": 5
}
