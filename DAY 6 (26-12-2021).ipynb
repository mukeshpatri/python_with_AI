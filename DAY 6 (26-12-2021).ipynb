{
 "cells": [
  {
   "cell_type": "code",
   "execution_count": 1,
   "id": "6fa227f2",
   "metadata": {},
   "outputs": [
    {
     "name": "stdout",
     "output_type": "stream",
     "text": [
      "20\n",
      "16\n",
      "36\n",
      "9.0\n",
      "0\n",
      "9\n"
     ]
    }
   ],
   "source": [
    "x = 18\n",
    "y = 2\n",
    "print(x+y)\n",
    "print(x-y)\n",
    "print(x*y)\n",
    "print(x/y)\n",
    "print(x%y)\n",
    "print(x//y)\n"
   ]
  },
  {
   "cell_type": "code",
   "execution_count": 2,
   "id": "0ad50727",
   "metadata": {},
   "outputs": [
    {
     "name": "stdout",
     "output_type": "stream",
     "text": [
      "15\n",
      "5\n",
      "0\n",
      "2.0\n",
      "2\n",
      "15\n"
     ]
    }
   ],
   "source": [
    "x = 10\n",
    "y = 5\n",
    "print(x+y)\n",
    "print(x-y)\n",
    "print(x%y)\n",
    "print(x/y)\n",
    "print(x//y)\n",
    "print(x+y)"
   ]
  },
  {
   "cell_type": "code",
   "execution_count": 3,
   "id": "e323ec2f",
   "metadata": {},
   "outputs": [
    {
     "name": "stdout",
     "output_type": "stream",
     "text": [
      "11\n",
      "7\n",
      "42\n",
      "8.4\n",
      "2.4000000000000004\n",
      "33.17760000000002\n",
      "8.0\n"
     ]
    }
   ],
   "source": [
    "x = 5\n",
    "x += 6\n",
    "print(x)\n",
    "x -= 4\n",
    "print(x)\n",
    "x *= 6\n",
    "print(x)\n",
    "x /= 5\n",
    "print(x)\n",
    "x %= 3\n",
    "print(x)\n",
    "x **= 4\n",
    "print(x)\n",
    "x //=4\n",
    "print(x)"
   ]
  },
  {
   "cell_type": "code",
   "execution_count": 4,
   "id": "16fa4636",
   "metadata": {},
   "outputs": [
    {
     "name": "stdout",
     "output_type": "stream",
     "text": [
      "False\n",
      "True\n",
      "False\n",
      "True\n",
      "False\n",
      "True\n"
     ]
    }
   ],
   "source": [
    "x=10 \n",
    "y=5\n",
    "print(x==y)\n",
    "print(x!=y)\n",
    "print(x<y)\n",
    "print(x>y)\n",
    "print(x<=y)\n",
    "print(x>=y)"
   ]
  },
  {
   "cell_type": "code",
   "execution_count": 5,
   "id": "e992eb55",
   "metadata": {},
   "outputs": [
    {
     "name": "stdout",
     "output_type": "stream",
     "text": [
      "False\n",
      "True\n",
      "True\n"
     ]
    }
   ],
   "source": [
    "x=12\n",
    "print(x > 5 and x<9)\n",
    "print(x > 5 or x < 9)\n",
    "print(not(x > 5 and x< 9))"
   ]
  },
  {
   "cell_type": "code",
   "execution_count": 6,
   "id": "59fa7a2b",
   "metadata": {},
   "outputs": [
    {
     "name": "stdout",
     "output_type": "stream",
     "text": [
      "True\n",
      "False\n",
      "True\n"
     ]
    }
   ],
   "source": [
    "a = 5\n",
    "b = 5\n",
    "c = 6\n",
    "print(a is b)\n",
    "print(a is c)\n",
    "print(a is b is not c)"
   ]
  },
  {
   "cell_type": "code",
   "execution_count": 11,
   "id": "2c8f264d",
   "metadata": {},
   "outputs": [
    {
     "name": "stdout",
     "output_type": "stream",
     "text": [
      "True\n",
      "True\n",
      "True\n",
      "True\n",
      "False\n"
     ]
    }
   ],
   "source": [
    "s = \"python\"\n",
    "print(\"p\" in s)\n",
    "print(\"th\" in s)\n",
    "print(\"thn\" not in s)\n",
    "print(\"p\" and \"t\" in s)\n",
    "print(\"janatha\" in s)"
   ]
  },
  {
   "cell_type": "code",
   "execution_count": 13,
   "id": "af5c7aef",
   "metadata": {},
   "outputs": [
    {
     "name": "stdout",
     "output_type": "stream",
     "text": [
      "enter the number:5\n",
      "odd number\n"
     ]
    }
   ],
   "source": [
    "n=int(input(\"enter the number:\"))\n",
    "if n%2==0:\n",
    "    print(\"even number\")\n",
    "else:\n",
    "    print(\"odd number\")"
   ]
  },
  {
   "cell_type": "code",
   "execution_count": 20,
   "id": "fbe8cd4f",
   "metadata": {},
   "outputs": [
    {
     "name": "stdout",
     "output_type": "stream",
     "text": [
      "enter a number:5\n",
      "no\n"
     ]
    }
   ],
   "source": [
    "n=int(input(\"enter a number:\"))\n",
    "if n%3==0 and n%5==0:\n",
    "    print(\"yes\")\n",
    "else:\n",
    "    print(\"no\")"
   ]
  },
  {
   "cell_type": "code",
   "execution_count": 27,
   "id": "1e0cbb2b",
   "metadata": {},
   "outputs": [
    {
     "name": "stdout",
     "output_type": "stream",
     "text": [
      "enter the number:6\n",
      "positive\n"
     ]
    }
   ],
   "source": [
    "x=int(input(\"enter the number:\"))\n",
    "if x>0:\n",
    "    print(\"positive\")\n",
    "elif x<0:\n",
    "    print(\"negative\")\n",
    "else:\n",
    "    print(\"zero\")"
   ]
  },
  {
   "cell_type": "code",
   "execution_count": 34,
   "id": "4949d880",
   "metadata": {},
   "outputs": [
    {
     "name": "stdout",
     "output_type": "stream",
     "text": [
      "enter the number5\n",
      "enter the number8\n",
      "enter the number10\n",
      "z\n"
     ]
    }
   ],
   "source": [
    "x=int(input(\"enter the number\"))\n",
    "y=int(input(\"enter the number\"))\n",
    "z=int(input(\"enter the number\"))\n",
    "if x>y and x>z:\n",
    "    print(\"x\")\n",
    "elif y>z:\n",
    "    print(\"y\")\n",
    "else:\n",
    "    print(\"z\")"
   ]
  },
  {
   "cell_type": "code",
   "execution_count": 37,
   "id": "12d7f5e8",
   "metadata": {},
   "outputs": [
    {
     "name": "stdout",
     "output_type": "stream",
     "text": [
      "enter the number10\n",
      "f\n"
     ]
    }
   ],
   "source": [
    "x=int(input(\"enter the number\"))\n",
    "if x>80:\n",
    "    print(\"a\")\n",
    "elif x<=80 and x>=60:\n",
    "    print(\"b\")\n",
    "elif x<=60 and x>=50:\n",
    "    print(\"c\")\n",
    "elif x<=50 and x>=45:\n",
    "    print(\"d\")\n",
    "elif x<=45 and x>=25:\n",
    "    print(\"E\")\n",
    "else:\n",
    "    print(\"f\")"
   ]
  },
  {
   "cell_type": "code",
   "execution_count": null,
   "id": "3979f929",
   "metadata": {},
   "outputs": [],
   "source": []
  }
 ],
 "metadata": {
  "kernelspec": {
   "display_name": "Python 3",
   "language": "python",
   "name": "python3"
  },
  "language_info": {
   "codemirror_mode": {
    "name": "ipython",
    "version": 3
   },
   "file_extension": ".py",
   "mimetype": "text/x-python",
   "name": "python",
   "nbconvert_exporter": "python",
   "pygments_lexer": "ipython3",
   "version": "3.8.8"
  }
 },
 "nbformat": 4,
 "nbformat_minor": 5
}
