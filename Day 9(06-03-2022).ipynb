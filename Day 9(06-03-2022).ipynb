{
 "cells": [
  {
   "cell_type": "markdown",
   "id": "45c90590",
   "metadata": {},
   "source": [
    "# Dictionaries\n",
    "- it is used to store data valuues in key:value pairs\n",
    "- dictionary seperates key and value by using colon symbol and key:value seperated by comma and enclosed with curly brackets"
   ]
  },
  {
   "cell_type": "code",
   "execution_count": 1,
   "id": "66fffd9f",
   "metadata": {},
   "outputs": [
    {
     "name": "stdout",
     "output_type": "stream",
     "text": [
      "{'name': 'python', 'email': 'python@gmail.com', 'city': 'visakhpatnam'}\n",
      "<class 'dict'>\n"
     ]
    }
   ],
   "source": [
    "d1 = {\"name\":\"python\",\"email\":\"python@gmail.com\",\"city\":\"visakhpatnam\"}\n",
    "print(d1)\n",
    "print(type(d1))"
   ]
  },
  {
   "cell_type": "code",
   "execution_count": 2,
   "id": "4339e17d",
   "metadata": {},
   "outputs": [
    {
     "data": {
      "text/plain": [
       "dict_keys(['name', 'email', 'city'])"
      ]
     },
     "execution_count": 2,
     "metadata": {},
     "output_type": "execute_result"
    }
   ],
   "source": [
    "# access to keys\n",
    "d1.keys()"
   ]
  },
  {
   "cell_type": "code",
   "execution_count": 3,
   "id": "8dd38dd1",
   "metadata": {},
   "outputs": [
    {
     "data": {
      "text/plain": [
       "dict_values(['python', 'python@gmail.com', 'visakhpatnam'])"
      ]
     },
     "execution_count": 3,
     "metadata": {},
     "output_type": "execute_result"
    }
   ],
   "source": [
    "# access values\n",
    "d1.values()"
   ]
  },
  {
   "cell_type": "code",
   "execution_count": 4,
   "id": "9fad8ecf",
   "metadata": {},
   "outputs": [
    {
     "name": "stdout",
     "output_type": "stream",
     "text": [
      "python\n"
     ]
    }
   ],
   "source": [
    "# access particular key\n",
    "print(d1[\"name\"])"
   ]
  },
  {
   "cell_type": "code",
   "execution_count": 5,
   "id": "e74b5951",
   "metadata": {},
   "outputs": [
    {
     "name": "stdout",
     "output_type": "stream",
     "text": [
      "{'name': 'mukesh', 'email': 'python@gmail.com', 'city': 'visakhpatnam'}\n"
     ]
    }
   ],
   "source": [
    "# acccess particular key value\n",
    "d1[\"name\"]=\"mukesh\"\n",
    "print(d1)"
   ]
  },
  {
   "cell_type": "code",
   "execution_count": 6,
   "id": "b0f4984b",
   "metadata": {},
   "outputs": [
    {
     "data": {
      "text/plain": [
       "dict_items([('name', 'mukesh'), ('email', 'python@gmail.com'), ('city', 'visakhpatnam')])"
      ]
     },
     "execution_count": 6,
     "metadata": {},
     "output_type": "execute_result"
    }
   ],
   "source": [
    "d1.items()"
   ]
  },
  {
   "cell_type": "code",
   "execution_count": null,
   "id": "90fe2275",
   "metadata": {},
   "outputs": [],
   "source": [
    "# pop method\n",
    "d1.pop(\"Email\")\n",
    "print(d1)"
   ]
  },
  {
   "cell_type": "markdown",
   "id": "82baaee7",
   "metadata": {},
   "source": [
    "# Functional programming:\n",
    "- group of statements which can perform a specific task\n",
    "- used for code reusability\n",
    "- it makes program can be devided into multiple sub blocks\n",
    "- function can be devided with def keyword"
   ]
  },
  {
   "cell_type": "code",
   "execution_count": null,
   "id": "0510eed7",
   "metadata": {},
   "outputs": [],
   "source": [
    "# syntax:\n",
    "def <function_name>(<parameters):\n",
    "    statement\n",
    "    return"
   ]
  },
  {
   "cell_type": "code",
   "execution_count": 17,
   "id": "081affa9",
   "metadata": {},
   "outputs": [
    {
     "name": "stdout",
     "output_type": "stream",
     "text": [
      "9\n",
      "-1\n",
      "20\n",
      "0.8\n"
     ]
    }
   ],
   "source": [
    "# add 2 number\n",
    "def add(x,y):\n",
    "    print(x+y)\n",
    "    print(x-y)\n",
    "    print(x*y)\n",
    "    print(x/y)\n",
    "add(4,5)   "
   ]
  },
  {
   "cell_type": "code",
   "execution_count": 18,
   "id": "6e78cf77",
   "metadata": {},
   "outputs": [
    {
     "name": "stdout",
     "output_type": "stream",
     "text": [
      "25\n",
      "1\n",
      "156\n",
      "1.0833333333333333\n"
     ]
    }
   ],
   "source": [
    "add(13,12)"
   ]
  },
  {
   "cell_type": "code",
   "execution_count": 19,
   "id": "3977e920",
   "metadata": {},
   "outputs": [
    {
     "data": {
      "text/plain": [
       "125"
      ]
     },
     "execution_count": 19,
     "metadata": {},
     "output_type": "execute_result"
    }
   ],
   "source": [
    "# cube\n",
    "def cube(a):\n",
    "    return a*a*a\n",
    "cube(5)"
   ]
  },
  {
   "cell_type": "code",
   "execution_count": 21,
   "id": "3cae782c",
   "metadata": {},
   "outputs": [
    {
     "data": {
      "text/plain": [
       "91125"
      ]
     },
     "execution_count": 21,
     "metadata": {},
     "output_type": "execute_result"
    }
   ],
   "source": [
    "cube(45)"
   ]
  },
  {
   "cell_type": "code",
   "execution_count": null,
   "id": "f971826d",
   "metadata": {},
   "outputs": [],
   "source": []
  }
 ],
 "metadata": {
  "kernelspec": {
   "display_name": "Python 3",
   "language": "python",
   "name": "python3"
  },
  "language_info": {
   "codemirror_mode": {
    "name": "ipython",
    "version": 3
   },
   "file_extension": ".py",
   "mimetype": "text/x-python",
   "name": "python",
   "nbconvert_exporter": "python",
   "pygments_lexer": "ipython3",
   "version": "3.8.8"
  }
 },
 "nbformat": 4,
 "nbformat_minor": 5
}
